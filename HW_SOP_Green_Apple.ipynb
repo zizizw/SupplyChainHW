{
  "cells": [
    {
      "cell_type": "markdown",
      "metadata": {
        "id": "view-in-github",
        "colab_type": "text"
      },
      "source": [
        "<a href=\"https://colab.research.google.com/github/zizizw/SupplyChainHW/blob/main/HW_SOP_Green_Apple.ipynb\" target=\"_parent\"><img src=\"https://colab.research.google.com/assets/colab-badge.svg\" alt=\"Open In Colab\"/></a>"
      ]
    },
    {
      "cell_type": "markdown",
      "metadata": {
        "id": "eWMocmUjlpEm"
      },
      "source": [
        "# Green Apple: Supply Planning case"
      ]
    },
    {
      "cell_type": "markdown",
      "metadata": {
        "id": "QN519G2FnVZ_"
      },
      "source": [
        "Green Apple (GA) products are sold through retailers nationwide. Their operations consist of assembling purchases parts into a multipurpose gardening tool. Because of the limited equipment and space required for its operations, GA’s capacity is mainly determined by the size of its workforce.\n",
        "\n",
        "Demand for GA’s products is highly seasonal peaking around April. In anticipation of the next season’s demand GA starts planning in the Fall for months of January through June. To meet the peak demand, GA can hire additional workers, subcontract some of the work or build up inventory during the slow months. It could also shift some demand in time by using promotions. Please determine the best use of these options by building an aggregate plan for: regular labor, overtime labor, number of units produced, inventory, subcontracting, and stockouts (backlogged demand).\n",
        "\n",
        "```\n",
        "+----------+-----------------+\n",
        "| Month    | Demand Forecast |\n",
        "+----------+-----------------+\n",
        "| January  | 1,600           |\n",
        "| February | 3,000           |\n",
        "| March    | 3,200           |\n",
        "| April    | 3,800           |\n",
        "| May      | 2,200           |\n",
        "| June     | 2,200           |\n",
        "+----------+-----------------+\n",
        "\n",
        "+-----------------------------+---------------+\n",
        "| Item                        | Cost          |\n",
        "+-----------------------------+---------------+\n",
        "| Materials                   | $10/unit      |\n",
        "| Inventory holding cost      | $2/unit/month |\n",
        "| Marginal cost of a stockout | $5/unit/month |\n",
        "| Hiring and training costs   | $300/worker   |\n",
        "| Layoff cost                 | $500/worker   |\n",
        "| Labor hours required        | 4/unit        |\n",
        "| Regular time cost           | $4/hour       |\n",
        "| Over time cost              | $6/hour       |\n",
        "| Cost of subcontracting      | $30/unit      |\n",
        "+-----------------------------+---------------+\n",
        "```\n",
        "\n",
        "* number of workers in the beginning of January: 80\n",
        "* Initial inventory: 1000\n",
        "* Minimum inventory at the end of June: 500 (business continuity) and no backlog\n",
        "* Maximum use of overtime: 10 hours per worker\n",
        "* Use of subcontracting: unlimited or limited to 500 per month\n",
        "* Regular unit sales price: \\$ 40\n",
        "* Promotion price: \\$ 39, results in an increase of consumption by 10% in the months of the promotion, and shifts 20% of demand from the future two months to the current month."
      ]
    },
    {
      "cell_type": "markdown",
      "metadata": {
        "id": "aCqqg646v6r6"
      },
      "source": [
        "### Install and import packages"
      ]
    },
    {
      "cell_type": "code",
      "execution_count": 1,
      "metadata": {
        "id": "AVeKmtpwefyk",
        "outputId": "7c1094ef-48eb-404c-958c-57c5cd56a90a",
        "colab": {
          "base_uri": "https://localhost:8080/"
        }
      },
      "outputs": [
        {
          "output_type": "stream",
          "name": "stdout",
          "text": [
            "Requirement already satisfied: tabulate in /usr/local/lib/python3.11/dist-packages (0.9.0)\n",
            "Collecting gurobipy\n",
            "  Downloading gurobipy-12.0.1-cp311-cp311-manylinux2014_x86_64.manylinux_2_17_x86_64.whl.metadata (16 kB)\n",
            "Downloading gurobipy-12.0.1-cp311-cp311-manylinux2014_x86_64.manylinux_2_17_x86_64.whl (14.4 MB)\n",
            "\u001b[2K   \u001b[90m━━━━━━━━━━━━━━━━━━━━━━━━━━━━━━━━━━━━━━━━\u001b[0m \u001b[32m14.4/14.4 MB\u001b[0m \u001b[31m46.6 MB/s\u001b[0m eta \u001b[36m0:00:00\u001b[0m\n",
            "\u001b[?25hInstalling collected packages: gurobipy\n",
            "Successfully installed gurobipy-12.0.1\n"
          ]
        }
      ],
      "source": [
        "# Install and import packages\n",
        "!pip install tabulate\n",
        "!pip install gurobipy\n",
        "import numpy as np\n",
        "from gurobipy import Model, GRB, quicksum\n",
        "from tabulate import tabulate\n",
        "import matplotlib.pyplot as plt"
      ]
    },
    {
      "cell_type": "markdown",
      "metadata": {
        "id": "4A7JbN-Hv0Wg"
      },
      "source": [
        "### Raw Data"
      ]
    },
    {
      "cell_type": "code",
      "source": [
        "### User defined variables\n",
        "promote = 0\n",
        "month = 4\n",
        "base_price = 40\n",
        "promotion_price = base_price - 1\n",
        "consumption = 0.10\n",
        "forward_buy = 0.20\n",
        "\n",
        "F = np.array([0, 1600, 3000, 3200, 3800, 2200, 2200])\n",
        "\n",
        "### Variables based on input\n",
        "n_months = len(F)-1\n",
        "F = np.append(F, [0, 0])"
      ],
      "metadata": {
        "id": "w_KVttrQwBux"
      },
      "execution_count": 2,
      "outputs": []
    },
    {
      "cell_type": "markdown",
      "metadata": {
        "id": "frM7khPFv_XZ"
      },
      "source": [
        "### Minimize cost using Gurobi integer optimizer"
      ]
    },
    {
      "cell_type": "code",
      "source": [
        "def plot_inventory():\n",
        "  t_values = list(range(1, n_months + 1))\n",
        "\n",
        "  plt.plot(t_values, [I[t].x for t in t_values], marker='o', label='Inventory')\n",
        "  plt.plot(t_values, [P[t].x for t in t_values], marker='s', label='Production')\n",
        "  plt.plot(t_values, [D[t].x for t in t_values], marker='D', label='Demand')\n",
        "  plt.plot(t_values, [S[t].x for t in t_values], marker='^', label='Stockout')\n",
        "  plt.plot(t_values, [C[t].x for t in t_values], marker='x', label='Subcontracting')\n",
        "\n",
        "  # Adding labels and legend\n",
        "  plt.xlabel('Period')\n",
        "  plt.ylabel('')\n",
        "  plt.legend(loc='best')\n",
        "  plt.title('Aggregate Plan')\n",
        "  plt.grid(axis='y')\n",
        "\n",
        "  # Show the plot\n",
        "  plt.show()"
      ],
      "metadata": {
        "id": "exqxhVjpe457"
      },
      "execution_count": 3,
      "outputs": []
    },
    {
      "cell_type": "markdown",
      "source": [
        "### Optimization problem\n",
        "\n",
        "***Minimize Cost***\n",
        "\n",
        "***subject to:***\n",
        "  Workforce constraint\n",
        "\n",
        "  Inventory balance constraint\n",
        "\n",
        "  Production Capacity constraint\n",
        "\n",
        "  Overtime constraint\n",
        "  \n",
        "  Demand and Stockout constraint\n",
        "\n",
        "***Decision Variables***\n",
        "\n",
        "Ht  = Number of employees hired at the beginning of month t, t = 1, ..., 6\n",
        "\n",
        "Lt  = Number of employees laid off at the beginning of month t, t = 1, ..., 6\n",
        "\n",
        "Wt  = Workforce size for month t, t = 1, ..., 6\n",
        "\n",
        "Ot  = Number of overtime hours worked in month t, t = 1, ..., 6\n",
        "\n",
        "It  = Inventory at the end of month t, t = 1, ..., 6\n",
        "\n",
        "St  = Number of units stocked out at the end of month t, t = 1, ..., 6\n",
        "\n",
        "Ct  = Number of units subcontracted for month t, t = 1, ..., 6\n",
        "\n",
        "Pt  = Production in month t, t = 1, ..., 6\n",
        "\n",
        "Dt  = Computed Demand in month t, t = 1, ..., 6"
      ],
      "metadata": {
        "id": "9ftNavgbfeug"
      }
    },
    {
      "cell_type": "code",
      "execution_count": 4,
      "metadata": {
        "colab": {
          "base_uri": "https://localhost:8080/",
          "height": 750
        },
        "id": "-VIxKBv4lmqw",
        "outputId": "58821a9c-c4d0-4fdb-ce45-6180e7be9e7e"
      },
      "outputs": [
        {
          "output_type": "stream",
          "name": "stdout",
          "text": [
            "Restricted license - for non-production use only - expires 2026-11-23\n",
            "+--------+-------+----------+-----------+----------+-----------+----------+-------------+------------+--------+-------+\n",
            "| Period | Hired | Laid Off | Workforce | Overtime | Inventory | Stockout | Subcontract | Production | Demand | Price |\n",
            "|    (t) |   (H) |      (L) |       (W) |      (O) |       (O) |      (S) |         (C) |        (P) |    (D) |  (Pr) |\n",
            "+--------+-------+----------+-----------+----------+-----------+----------+-------------+------------+--------+-------+\n",
            "|      0 |  -0.0 |     -0.0 |      80.0 |     -0.0 |    1000.0 |      0.0 |        -0.0 |       -0.0 |   -0.0 |   nan |\n",
            "|      1 |   0.0 |     16.0 |      64.0 |     -0.0 |    1960.0 |     -0.0 |        -0.0 |     2560.0 | 1600.0 |  40.0 |\n",
            "|      2 |   0.0 |     -0.0 |      64.0 |     -0.0 |    1520.0 |     -0.0 |         0.0 |     2560.0 | 3000.0 |  40.0 |\n",
            "|      3 |   0.0 |     -0.0 |      64.0 |     -0.0 |     880.0 |     -0.0 |         0.0 |     2560.0 | 3200.0 |  40.0 |\n",
            "|      4 |   0.0 |     -0.0 |      64.0 |     -0.0 |      -0.0 |    220.0 |       140.0 |     2560.0 | 3800.0 |  40.0 |\n",
            "|      5 |   0.0 |     -0.0 |      64.0 |     -0.0 |     140.0 |     -0.0 |         0.0 |     2560.0 | 2200.0 |  40.0 |\n",
            "|      6 |   0.0 |     -0.0 |      64.0 |     -0.0 |     500.0 |      0.0 |         0.0 |     2560.0 | 2200.0 |  40.0 |\n",
            "+--------+-------+----------+-----------+----------+-----------+----------+-------------+------------+--------+-------+\n",
            "Minimum Cost : $ 422,660.00\n",
            "Total Revenue: $ 640,000.00\n",
            "Profit       : $ 217,340.00\n"
          ]
        },
        {
          "output_type": "display_data",
          "data": {
            "text/plain": [
              "<Figure size 640x480 with 1 Axes>"
            ],
            "image/png": "[encoded data removed]"
          },
          "metadata": {}
        }
      ],
      "source": [
        "# Create a Gurobi model\n",
        "model = Model(\"MinimizeCost\")\n",
        "\n",
        "H = {(t): model.addVar(vtype=GRB.INTEGER, lb=0, name=f\"H_{t}\") for t in range(0, n_months+1)}\n",
        "L = {(t): model.addVar(vtype=GRB.INTEGER, lb=0, name=f\"L_{t}\") for t in range(0, n_months+1)}\n",
        "W = {(t): model.addVar(vtype=GRB.INTEGER, lb=0, name=f\"W_{t}\") for t in range(0, n_months+1)}\n",
        "O = {(t): model.addVar(vtype=GRB.INTEGER, lb=0, name=f\"O_{t}\") for t in range(0, n_months+1)}\n",
        "I = {(t): model.addVar(vtype=GRB.INTEGER, lb=0, name=f\"I_{t}\") for t in range(0, n_months+1)}\n",
        "S = {(t): model.addVar(vtype=GRB.INTEGER, lb=0, name=f\"S_{t}\") for t in range(0, n_months+1)}\n",
        "C = {(t): model.addVar(vtype=GRB.INTEGER, lb=0, name=f\"C_{t}\") for t in range(0, n_months+1)}\n",
        "P = {(t): model.addVar(vtype=GRB.INTEGER, lb=0, name=f\"P_{t}\") for t in range(0, n_months+1)}\n",
        "D = {(t): model.addVar(vtype=GRB.INTEGER, lb=0, name=f\"D_{t}\") for t in range(0, n_months+1)}\n",
        "\n",
        "# Update the model\n",
        "model.update()\n",
        "\n",
        "# Set objective function - Total cost = Production & Transportation cost across network + Fixed cost of low cap line + fixed cost of high cap line\n",
        "model.setObjective(\n",
        "    quicksum( 300*H[t] + 500*L[t] + 640*W[t] + 6*O[t] + 2*I[t] + 5*S[t] + 30*C[t] + 10*P[t] for t in range(1, n_months+1) ),\n",
        "    GRB.MINIMIZE)\n",
        "\n",
        "### Constraints\n",
        "for t in range(1, n_months+1):\n",
        "\n",
        "  # Workforce size for each month is based on hiring and layoffs, W_t = W_{t-1} + H_t - L_t\n",
        "  model.addConstr(W[0] == 80, name=f\"Workforce_Beg\")\n",
        "  model.addConstr(W[t] - W[t-1] - H[t] + L[t] == 0, name=f\"Workforce_size_constraint_{t}\")\n",
        "\n",
        "  # Demand constraints\n",
        "  if promote == 0:\n",
        "      model.addConstr(D[t] == F[t], name=f\"D_constraint_{t}\")\n",
        "  else:\n",
        "      if t == month:\n",
        "          model.addConstr(D[t] == F[t] * (1 + consumption) + forward_buy * (F[t+1] + F[t+2]), name=f\"D_constraint_{t}\")\n",
        "      else:\n",
        "          if t <= 2 + promote:\n",
        "              if t > promote:\n",
        "                  model.addConstr(D[t] == (1 - forward_buy) * F[t], name=f\"D_constraint_{t}\")\n",
        "              else:\n",
        "                  model.addConstr(D[t] == F[t], name=f\"D_constraint_{t}\")\n",
        "          else:\n",
        "              model.addConstr(D[t] == F[t], name=f\"D_constraint_{t}\")\n",
        "\n",
        "  # Inventory balance constraint: I_{t-1} + P_t + C_t = D_t + S_{t-1} + I_t - S_t\n",
        "  model.addConstr(I[0] == 1000, name=f\"Inventory_Beg\")\n",
        "  model.addConstr(I[t-1] + P[t] + C[t] - D[t] - S[t-1] - I[t] + S[t] == 0, name=f\"Inventory_constraint_{t}\")\n",
        "  model.addConstr(I[n_months] >= 500, name=f\"Inventory_End\")\n",
        "\n",
        "  # Stockout constraint: No stockout at the end\n",
        "  model.addConstr(S[n_months] == 0, name=f\"Stockout_End\")\n",
        "\n",
        "  # Production <= Capacity P_t <= 40 W_t + O_t/4\n",
        "  model.addConstr(40*W[t] + O[t]/4 - P[t] >= 0, name=f\"Capacity_constraint_{t}\")\n",
        "\n",
        "  # Overtime constraint O_t <= 10 W_t\n",
        "  model.addConstr(10*W[t] - O[t] >= 0, name=f\"Overtime_constraint_{t}\")\n",
        "\n",
        "\n",
        "# Suppress optimization output\n",
        "model.Params.OutputFlag = 0\n",
        "\n",
        "# Optimize the model\n",
        "model.optimize()\n",
        "\n",
        "### Calculate price\n",
        "Pr = np.zeros(n_months+1)\n",
        "for t in range(0, n_months + 1):\n",
        "  if promote == 1 and t == month:\n",
        "    Pr[t] = promotion_price\n",
        "  else:\n",
        "    Pr[t] = base_price\n",
        "  if t == 0:\n",
        "    Pr[t] = np.nan\n",
        "\n",
        "### Total revenue = sumproduct (demand*price)\n",
        "revenue = sum([D[t].x * Pr[t] for t in range(1, n_months + 1)])\n",
        "\n",
        "# Store result in table format and print\n",
        "opt_results = [[t] + [H[t].x] + [L[t].x] + [W[t].x] + [O[t].x] + [I[t].x] + [S[t].x] + [C[t].x] + [P[t].x] + [D[t].x] + [Pr[t]] for t in range(0, n_months + 1)]\n",
        "\n",
        "headers = [\"Period\\n(t)\"] + [\"Hired\\n(H)\"] + [\"Laid Off\\n(L)\"] + [\"Workforce\\n(W)\"] + [\"Overtime\\n(O)\"] + [\"Inventory\\n(O)\"] + [\"Stockout\\n(S)\"] + [\"Subcontract\\n(C)\"] + [\"Production\\n(P)\"] + [\"Demand\\n(D)\"] + [\"Price\\n(Pr)\"]\n",
        "print(tabulate(opt_results, headers=headers, tablefmt=\"pretty\", stralign=\"right\"))\n",
        "\n",
        "print(f\"Minimum Cost : $ {model.objVal:,.2f}\")\n",
        "print(f\"Total Revenue: $ {revenue:,.2f}\")\n",
        "print(f\"Profit       : $ {(revenue-model.objVal):,.2f}\")\n",
        "\n",
        "plot_inventory()\n"
      ]
    },
    {
      "cell_type": "code",
      "source": [
        "cost_january = 300*H[1].x + 500*L[1].x + 640*W[1].x + 6*O[1].x + 2*I[1].x + 5*S[1].x + 30*C[1].x + 10*P[1].x\n",
        "print(f\"Cost of January: $ {cost_january:,.2f}\")"
      ],
      "metadata": {
        "colab": {
          "base_uri": "https://localhost:8080/"
        },
        "id": "Z3F8UEh5nred",
        "outputId": "3de5f876-e4e0-426f-eecb-bd59ee7507ef"
      },
      "execution_count": 5,
      "outputs": [
        {
          "output_type": "stream",
          "name": "stdout",
          "text": [
            "Cost of January: $ 78,480.00\n"
          ]
        }
      ]
    },
    {
      "cell_type": "code",
      "source": [
        "# Calculate cost for each month from February to July (t=2 to t=7)\n",
        "monthly_costs = {t: 300*H[t].x + 500*L[t].x + 640*W[t].x + 6*O[t].x +\n",
        "                 2*I[t].x + 5*S[t].x + 30*C[t].x + 10*P[t].x for t in range(2, 7)}\n",
        "\n",
        "# Print results\n",
        "for t, cost in monthly_costs.items():\n",
        "    print(f\"Cost for Month {t}: $ {cost:,.2f}\")\n",
        "\n",
        "# Total cost for February to July\n",
        "total_cost_feb_to_july = sum(monthly_costs.values())\n",
        "print(f\"Total Cost (Feb - July): $ {total_cost_feb_to_july:,.2f}\")\n"
      ],
      "metadata": {
        "colab": {
          "base_uri": "https://localhost:8080/"
        },
        "id": "5FxMIhKOqZjU",
        "outputId": "cd25fb4b-5075-412b-bfc8-27fe0167753d"
      },
      "execution_count": 6,
      "outputs": [
        {
          "output_type": "stream",
          "name": "stdout",
          "text": [
            "Cost for Month 2: $ 69,600.00\n",
            "Cost for Month 3: $ 68,320.00\n",
            "Cost for Month 4: $ 71,860.00\n",
            "Cost for Month 5: $ 66,840.00\n",
            "Cost for Month 6: $ 67,560.00\n",
            "Total Cost (Feb - July): $ 344,180.00\n"
          ]
        }
      ]
    },
    {
      "cell_type": "markdown",
      "source": [
        "## New Forecast Updates from Assignment questions 2"
      ],
      "metadata": {
        "id": "gX7yoPRKIyIS"
      }
    },
    {
      "cell_type": "markdown",
      "source": [
        "Method: redoing S&OP taking January as a new starting point."
      ],
      "metadata": {
        "id": "5KrQVXPTtHsS"
      }
    },
    {
      "cell_type": "markdown",
      "source": [
        "January demand: 1400. April demand: 3900. July demand: 1200."
      ],
      "metadata": {
        "id": "KyL1zRYjtwIN"
      }
    },
    {
      "cell_type": "markdown",
      "source": [
        "### Updated Optimization"
      ],
      "metadata": {
        "id": "fhIsI4j6t113"
      }
    },
    {
      "cell_type": "code",
      "source": [
        "F = np.array([0, 1400, 3000, 3200, 3900, 2200, 2200, 1200])\n",
        "\n",
        "### Variables based on input\n",
        "n_months = len(F)-1\n",
        "F = np.append(F, [0, 0])"
      ],
      "metadata": {
        "id": "xRW-ZjDAIIUn"
      },
      "execution_count": 7,
      "outputs": []
    },
    {
      "cell_type": "code",
      "source": [
        "# Create a Gurobi model\n",
        "model = Model(\"MinimizeCost\")\n",
        "\n",
        "H = {(t): model.addVar(vtype=GRB.INTEGER, lb=0, name=f\"H_{t}\") for t in range(0, n_months+1)}\n",
        "L = {(t): model.addVar(vtype=GRB.INTEGER, lb=0, name=f\"L_{t}\") for t in range(0, n_months+1)}\n",
        "W = {(t): model.addVar(vtype=GRB.INTEGER, lb=0, name=f\"W_{t}\") for t in range(0, n_months+1)}\n",
        "O = {(t): model.addVar(vtype=GRB.INTEGER, lb=0, name=f\"O_{t}\") for t in range(0, n_months+1)}\n",
        "I = {(t): model.addVar(vtype=GRB.INTEGER, lb=0, name=f\"I_{t}\") for t in range(0, n_months+1)}\n",
        "S = {(t): model.addVar(vtype=GRB.INTEGER, lb=0, name=f\"S_{t}\") for t in range(0, n_months+1)}\n",
        "C = {(t): model.addVar(vtype=GRB.INTEGER, lb=0, name=f\"C_{t}\") for t in range(0, n_months+1)}\n",
        "P = {(t): model.addVar(vtype=GRB.INTEGER, lb=0, name=f\"P_{t}\") for t in range(0, n_months+1)}\n",
        "D = {(t): model.addVar(vtype=GRB.INTEGER, lb=0, name=f\"D_{t}\") for t in range(0, n_months+1)}\n",
        "\n",
        "# Update the model\n",
        "model.update()\n",
        "\n",
        "# Set objective function - Total cost = Production & Transportation cost across network + Fixed cost of low cap line + fixed cost of high cap line\n",
        "model.setObjective(\n",
        "    quicksum( 300*H[t] + 500*L[t] + 640*W[t] + 6*O[t] + 2*I[t] + 5*S[t] + 30*C[t] + 10*P[t] for t in range(1, n_months+1) ),\n",
        "    GRB.MINIMIZE)\n",
        "\n",
        "### Constraints\n",
        "for t in range(1, n_months+1):\n",
        "\n",
        "  # Workforce size for each month is based on hiring and layoffs, W_t = W_{t-1} + H_t - L_t\n",
        "  model.addConstr(W[0] == 80, name=f\"Workforce_Beg\")\n",
        "  model.addConstr(W[t] - W[t-1] - H[t] + L[t] == 0, name=f\"Workforce_size_constraint_{t}\")\n",
        "\n",
        "  # Demand constraints\n",
        "  if promote == 0:\n",
        "      model.addConstr(D[t] == F[t], name=f\"D_constraint_{t}\")\n",
        "  else:\n",
        "      if t == month:\n",
        "          model.addConstr(D[t] == F[t] * (1 + consumption) + forward_buy * (F[t+1] + F[t+2]), name=f\"D_constraint_{t}\")\n",
        "      else:\n",
        "          if t <= 2 + promote:\n",
        "              if t > promote:\n",
        "                  model.addConstr(D[t] == (1 - forward_buy) * F[t], name=f\"D_constraint_{t}\")\n",
        "              else:\n",
        "                  model.addConstr(D[t] == F[t], name=f\"D_constraint_{t}\")\n",
        "          else:\n",
        "              model.addConstr(D[t] == F[t], name=f\"D_constraint_{t}\")\n",
        "\n",
        "  # Inventory balance constraint: I_{t-1} + P_t + C_t = D_t + S_{t-1} + I_t - S_t\n",
        "  model.addConstr(I[0] == 1000, name=f\"Inventory_Beg\")\n",
        "  model.addConstr(I[t-1] + P[t] + C[t] - D[t] - S[t-1] - I[t] + S[t] == 0, name=f\"Inventory_constraint_{t}\")\n",
        "  model.addConstr(I[n_months] >= 500, name=f\"Inventory_End\")\n",
        "\n",
        "  # Stockout constraint: No stockout at the end\n",
        "  model.addConstr(S[n_months] == 0, name=f\"Stockout_End\")\n",
        "\n",
        "  # Production <= Capacity P_t <= 40 W_t + O_t/4\n",
        "  model.addConstr(40*W[t] + O[t]/4 - P[t] >= 0, name=f\"Capacity_constraint_{t}\")\n",
        "\n",
        "  # Overtime constraint O_t <= 10 W_t\n",
        "  model.addConstr(10*W[t] - O[t] >= 0, name=f\"Overtime_constraint_{t}\")\n",
        "\n",
        "\n",
        "# Suppress optimization output\n",
        "model.Params.OutputFlag = 0\n",
        "\n",
        "# Optimize the model\n",
        "model.optimize()\n",
        "\n",
        "### Calculate price\n",
        "Pr = np.zeros(n_months+1)\n",
        "for t in range(0, n_months + 1):\n",
        "  if promote == 1 and t == month:\n",
        "    Pr[t] = promotion_price\n",
        "  else:\n",
        "    Pr[t] = base_price\n",
        "  if t == 0:\n",
        "    Pr[t] = np.nan\n",
        "\n",
        "### Total revenue = sumproduct (demand*price)\n",
        "revenue = sum([D[t].x * Pr[t] for t in range(1, n_months + 1)])\n",
        "\n",
        "# Store result in table format and print\n",
        "opt_results = [[t] + [H[t].x] + [L[t].x] + [W[t].x] + [O[t].x] + [I[t].x] + [S[t].x] + [C[t].x] + [P[t].x] + [D[t].x] + [Pr[t]] for t in range(0, n_months + 1)]\n",
        "\n",
        "headers = [\"Period\\n(t)\"] + [\"Hired\\n(H)\"] + [\"Laid Off\\n(L)\"] + [\"Workforce\\n(W)\"] + [\"Overtime\\n(O)\"] + [\"Inventory\\n(O)\"] + [\"Stockout\\n(S)\"] + [\"Subcontract\\n(C)\"] + [\"Production\\n(P)\"] + [\"Demand\\n(D)\"] + [\"Price\\n(Pr)\"]\n",
        "print(tabulate(opt_results, headers=headers, tablefmt=\"pretty\", stralign=\"right\"))\n",
        "\n",
        "print(f\"Minimum Cost : $ {model.objVal:,.2f}\")\n",
        "print(f\"Total Revenue: $ {revenue:,.2f}\")\n",
        "print(f\"Profit       : $ {(revenue-model.objVal):,.2f}\")\n",
        "\n",
        "plot_inventory()\n"
      ],
      "metadata": {
        "colab": {
          "base_uri": "https://localhost:8080/",
          "height": 750
        },
        "id": "htcC1l_hJTI5",
        "outputId": "d52fd32d-d273-477f-b476-560cb9be1c06"
      },
      "execution_count": 8,
      "outputs": [
        {
          "output_type": "stream",
          "name": "stdout",
          "text": [
            "+--------+-------+----------+-----------+----------+-----------+----------+-------------+------------+--------+-------+\n",
            "| Period | Hired | Laid Off | Workforce | Overtime | Inventory | Stockout | Subcontract | Production | Demand | Price |\n",
            "|    (t) |   (H) |      (L) |       (W) |      (O) |       (O) |      (S) |         (C) |        (P) |    (D) |  (Pr) |\n",
            "+--------+-------+----------+-----------+----------+-----------+----------+-------------+------------+--------+-------+\n",
            "|      0 |  -0.0 |     -0.0 |      80.0 |     -0.0 |    1000.0 |      0.0 |        -0.0 |       -0.0 |   -0.0 |   nan |\n",
            "|      1 |   0.0 |     15.0 |      65.0 |     -0.0 |    2200.0 |     -0.0 |        -0.0 |     2600.0 | 1400.0 |  40.0 |\n",
            "|      2 |   0.0 |     -0.0 |      65.0 |     -0.0 |    1800.0 |     -0.0 |         0.0 |     2600.0 | 3000.0 |  40.0 |\n",
            "|      3 |   0.0 |     -0.0 |      65.0 |     -0.0 |    1200.0 |     -0.0 |         0.0 |     2600.0 | 3200.0 |  40.0 |\n",
            "|      4 |   0.0 |     -0.0 |      65.0 |     -0.0 |      -0.0 |     20.0 |        80.0 |     2600.0 | 3900.0 |  40.0 |\n",
            "|      5 |   0.0 |     10.0 |      55.0 |     -0.0 |      -0.0 |     20.0 |         0.0 |     2200.0 | 2200.0 |  40.0 |\n",
            "|      6 |   0.0 |      6.0 |      49.0 |     -0.0 |      -0.0 |    260.0 |         0.0 |     1960.0 | 2200.0 |  40.0 |\n",
            "|      7 |   0.0 |     -0.0 |      49.0 |     -0.0 |     500.0 |      0.0 |         0.0 |     1960.0 | 1200.0 |  40.0 |\n",
            "+--------+-------+----------+-----------+----------+-----------+----------+-------------+------------+--------+-------+\n",
            "Minimum Cost : $ 460,320.00\n",
            "Total Revenue: $ 684,000.00\n",
            "Profit       : $ 223,680.00\n"
          ]
        },
        {
          "output_type": "display_data",
          "data": {
            "text/plain": [
              "<Figure size 640x480 with 1 Axes>"
            ],
            "image/png": "[encoded data removed]"
          },
          "metadata": {}
        }
      ]
    },
    {
      "cell_type": "code",
      "source": [
        "cost_january_new = 300*H[1].x + 500*L[1].x + 640*W[1].x + 6*O[1].x + 2*I[1].x + 5*S[1].x + 30*C[1].x + 10*P[1].x\n",
        "print(f\"Cost of January: $ {cost_january_new:,.2f}\")"
      ],
      "metadata": {
        "colab": {
          "base_uri": "https://localhost:8080/"
        },
        "id": "CO1TKU28nkH5",
        "outputId": "42ef49fd-33c5-4a37-9dfa-07ed98b86bfe"
      },
      "execution_count": 9,
      "outputs": [
        {
          "output_type": "stream",
          "name": "stdout",
          "text": [
            "Cost of January: $ 79,500.00\n"
          ]
        }
      ]
    },
    {
      "cell_type": "markdown",
      "source": [
        "### Question 3:"
      ],
      "metadata": {
        "id": "8lBTGD77tZT6"
      }
    },
    {
      "cell_type": "markdown",
      "source": [
        "What impact did the change of demand in January have on costs incurred in January, compared to the planned costs computed in Step 1?\n",
        "\n",
        "According to Step 1, the demand of January declined from 1600 units to 1400 units, along with the increasing forecast of demand in April from 3800 to 3900 units, and the forecasted demand of July is 1200 units.\n",
        "\n",
        "As a result, the cost of January increases from \\$78,480 to \\$79,500 (+\\$1,020)."
      ],
      "metadata": {
        "id": "kLrnRcYvMM3C"
      }
    },
    {
      "cell_type": "markdown",
      "source": [
        "### Question 4:"
      ],
      "metadata": {
        "id": "kyyjpG4ttcbh"
      }
    },
    {
      "cell_type": "code",
      "source": [
        "# Calculate cost for each month from February to July (t=2 to t=7)\n",
        "monthly_costs_new = {t: 300*H[t].x + 500*L[t].x + 640*W[t].x + 6*O[t].x +\n",
        "                 2*I[t].x + 5*S[t].x + 30*C[t].x + 10*P[t].x for t in range(2, 7)}\n",
        "\n",
        "# Print results\n",
        "for t, cost in monthly_costs_new.items():\n",
        "    print(f\"Updated Cost for Month {t}: $ {cost:,.2f}\")\n",
        "\n",
        "# Total cost for February to July\n",
        "total_cost_feb_to_july_new = sum(monthly_costs_new.values())\n",
        "print(f\"Updated Total Cost (Feb - June): $ {total_cost_feb_to_july_new:,.2f}\")\n"
      ],
      "metadata": {
        "colab": {
          "base_uri": "https://localhost:8080/"
        },
        "id": "dvbM0QUGppxI",
        "outputId": "456c9ba4-c450-408f-9856-d0fb7cde9ccc"
      },
      "execution_count": 10,
      "outputs": [
        {
          "output_type": "stream",
          "name": "stdout",
          "text": [
            "Updated Cost for Month 2: $ 71,200.00\n",
            "Updated Cost for Month 3: $ 70,000.00\n",
            "Updated Cost for Month 4: $ 70,100.00\n",
            "Updated Cost for Month 5: $ 62,300.00\n",
            "Updated Cost for Month 6: $ 55,260.00\n",
            "Updated Total Cost (Feb - June): $ 328,860.00\n"
          ]
        }
      ]
    },
    {
      "cell_type": "code",
      "source": [
        "# recall the origin plan for comparison\n",
        "# Print results\n",
        "for t, cost in monthly_costs.items():\n",
        "    print(f\"Original Cost for Month {t}: $ {cost:,.2f}\")\n",
        "\n",
        "# Total cost for February to July\n",
        "total_cost_feb_to_july = sum(monthly_costs.values())\n",
        "print(f\"Original Total Cost (Feb - June): $ {total_cost_feb_to_july:,.2f}\")\n"
      ],
      "metadata": {
        "colab": {
          "base_uri": "https://localhost:8080/"
        },
        "id": "pGE_eL0VrVw4",
        "outputId": "9a015ccf-c807-4d7c-97ea-4e21cf9d746b"
      },
      "execution_count": 11,
      "outputs": [
        {
          "output_type": "stream",
          "name": "stdout",
          "text": [
            "Original Cost for Month 2: $ 69,600.00\n",
            "Original Cost for Month 3: $ 68,320.00\n",
            "Original Cost for Month 4: $ 71,860.00\n",
            "Original Cost for Month 5: $ 66,840.00\n",
            "Original Cost for Month 6: $ 67,560.00\n",
            "Original Total Cost (Feb - June): $ 344,180.00\n"
          ]
        }
      ]
    },
    {
      "cell_type": "code",
      "source": [
        "# Calculate cost difference for each month from February to June (t=2 to t=6)\n",
        "cost_differences = {t: monthly_costs_new[t] - monthly_costs[t] for t in range(2, 7)}\n",
        "\n",
        "# Print monthly cost differences\n",
        "for t, diff in cost_differences.items():\n",
        "    print(f\"Cost Difference for Month {t}: $ {diff:,.2f}\")\n",
        "\n",
        "# Calculate total cost difference for February to June\n",
        "total_cost_difference = sum(cost_differences.values())\n",
        "print(f\"Total Cost Difference (Feb - June): $ {total_cost_difference:,.2f}\")\n"
      ],
      "metadata": {
        "colab": {
          "base_uri": "https://localhost:8080/"
        },
        "id": "wxIY9Y_Jrc4F",
        "outputId": "90a0b04d-2b0f-4151-bf69-3871559d92af"
      },
      "execution_count": 12,
      "outputs": [
        {
          "output_type": "stream",
          "name": "stdout",
          "text": [
            "Cost Difference for Month 2: $ 1,600.00\n",
            "Cost Difference for Month 3: $ 1,680.00\n",
            "Cost Difference for Month 4: $ -1,760.00\n",
            "Cost Difference for Month 5: $ -4,540.00\n",
            "Cost Difference for Month 6: $ -12,300.00\n",
            "Total Cost Difference (Feb - June): $ -15,320.00\n"
          ]
        }
      ]
    },
    {
      "cell_type": "markdown",
      "source": [
        "The updated plan saves the cost (Feb - Jun) \\$15,320."
      ],
      "metadata": {
        "id": "wyVuTdv2sg19"
      }
    }
  ],
  "metadata": {
    "colab": {
      "provenance": [],
      "collapsed_sections": [
        "aCqqg646v6r6",
        "4A7JbN-Hv0Wg",
        "frM7khPFv_XZ"
      ],
      "include_colab_link": true
    },
    "kernelspec": {
      "display_name": "Python 3",
      "name": "python3"
    },
    "language_info": {
      "name": "python"
    }
  },
  "nbformat": 4,
  "nbformat_minor": 0
}