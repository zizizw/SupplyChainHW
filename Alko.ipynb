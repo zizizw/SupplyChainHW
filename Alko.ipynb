{
  "nbformat": 4,
  "nbformat_minor": 0,
  "metadata": {
    "colab": {
      "provenance": [],
      "authorship_tag": "ABX9TyPoTNBURBX01AHypYU92JTz",
      "include_colab_link": true
    },
    "kernelspec": {
      "name": "python3",
      "display_name": "Python 3"
    },
    "language_info": {
      "name": "python"
    }
  },
  "cells": [
    {
      "cell_type": "markdown",
      "metadata": {
        "id": "view-in-github",
        "colab_type": "text"
      },
      "source": [
        "<a href=\"https://colab.research.google.com/github/zizizw/SupplyChainHW/blob/main/Alko.ipynb\" target=\"_parent\"><img src=\"https://colab.research.google.com/assets/colab-badge.svg\" alt=\"Open In Colab\"/></a>"
      ]
    },
    {
      "cell_type": "markdown",
      "source": [
        "# Set up (Import packages and Given Data)"
      ],
      "metadata": {
        "id": "jhGErQ4EcRbi"
      }
    },
    {
      "cell_type": "code",
      "execution_count": 138,
      "metadata": {
        "id": "IaRqVYG1qyVR"
      },
      "outputs": [],
      "source": [
        "import numpy as np\n",
        "import pandas as pd\n",
        "import math\n",
        "import scipy.stats as st\n",
        "from scipy.optimize import minimize\n",
        "import matplotlib.pyplot as plt\n",
        "import itertools"
      ]
    },
    {
      "cell_type": "code",
      "source": [
        "### Set display options for comma separator and precision\n",
        "pd.options.display.float_format = '{:,.2f}'.format\n",
        "\n",
        "# Define the date you want to check\n",
        "days = 365  # days_per_year\n",
        "h   = 0.15  # holding_cost_per_day\n",
        "tc  = 0.19  # transportaion_cost_per_unit\n",
        "ctc = 0.29  # centralized transportaion_cost_per_unit\n",
        "L   = 5     # supply_leadtime_days\n",
        "T   = 6     # review_period_days\n",
        "csl = 0.95  # critical value\n",
        "# warehouse_cost = 50000\n"
      ],
      "metadata": {
        "id": "487Y_m_cccWK"
      },
      "execution_count": 139,
      "outputs": []
    },
    {
      "cell_type": "code",
      "source": [
        "\n",
        "corr = 0\n",
        "# Prompt the user to enter a value for 'corr'\n",
        "#corr = float(input(\"Enter correlation (as scalar): \"))"
      ],
      "metadata": {
        "id": "9t2LngZOgCSx"
      },
      "execution_count": 140,
      "outputs": []
    },
    {
      "cell_type": "code",
      "source": [
        "### Rawdata: average demand and standard deviation of demand for each part in each region\n",
        "avg_demand = np.array([[35.48, 22.61, 17.66, 11.81,  3.36],\n",
        "                       [ 2.48,  4.15,  6.15,  6.16,  7.49],\n",
        "                       [ 0.48,  0.73,  0.80,  1.94,  2.54]])\n",
        "\n",
        "std_demand = np.array([[ 6.98,  6.48,  5.26,  3.48,  4.49],\n",
        "                       [ 3.16,  6.20,  6.39,  6.76,  3.56],\n",
        "                       [ 1.98,  1.42,  2.39,  3.76,  3.98]])\n",
        "\n",
        "num_demand = np.array([[ 10, 10, 10, 10, 10],\n",
        "                       [ 20, 20, 20, 20, 20],\n",
        "                       [ 70, 70, 70, 70, 70]])\n",
        "\n",
        "n_parts, n_regions = avg_demand.shape[0], avg_demand.shape[1]"
      ],
      "metadata": {
        "id": "sTjbZ2X2gBXz"
      },
      "execution_count": 141,
      "outputs": []
    },
    {
      "cell_type": "code",
      "source": [
        "### create correlation matrix using provided scalar value (corr can also be provided as raw data)\n",
        "corr_matrix = np.full((n_regions, n_regions), corr)\n",
        "np.fill_diagonal(corr_matrix, 1) # Set diagonal elements to 1"
      ],
      "metadata": {
        "id": "nkGPAnL3gE33"
      },
      "execution_count": 142,
      "outputs": []
    },
    {
      "cell_type": "code",
      "source": [
        "z_score = st.norm.ppf(csl)\n",
        "# z_score = 1.645"
      ],
      "metadata": {
        "id": "GZITuQW4gesy"
      },
      "execution_count": 143,
      "outputs": []
    },
    {
      "cell_type": "markdown",
      "source": [
        "# Question 1"
      ],
      "metadata": {
        "id": "wiPEQfsygK3d"
      }
    },
    {
      "cell_type": "code",
      "source": [
        "# Calculate inventory holding cost separately\n",
        "inventory_holding_cost = np.sum(\n",
        "    days * num_demand * (\n",
        "        h * (z_score * std_demand * math.sqrt(T + L) + avg_demand * (T / 2 + L))\n",
        "    )\n",
        ")\n",
        "\n",
        "# Calculate transportation cost separately\n",
        "transportation_cost = np.sum(\n",
        "    days * num_demand * avg_demand * tc\n",
        ")\n",
        "\n",
        "# Calculate total cost (sum of inventory holding and transportation costs)\n",
        "total_cost = inventory_holding_cost + transportation_cost\n",
        "\n",
        "# Print the results\n",
        "print(f\"Annual Inventory Holding Cost: ${inventory_holding_cost:,.2f}\")\n",
        "print(f\"Annual Transportation Cost: ${transportation_cost:,.2f}\")\n",
        "print(f\"Total Annual Cost: ${total_cost:,.2f}\")"
      ],
      "metadata": {
        "colab": {
          "base_uri": "https://localhost:8080/"
        },
        "id": "ubbBRPBqgNO7",
        "outputId": "31e6d94f-12db-498b-b8dc-828f043dddaa"
      },
      "execution_count": 144,
      "outputs": [
        {
          "output_type": "stream",
          "name": "stdout",
          "text": [
            "Annual Inventory Holding Cost: $1,347,070.96\n",
            "Annual Transportation Cost: $131,217.14\n",
            "Total Annual Cost: $1,478,288.09\n"
          ]
        }
      ]
    },
    {
      "cell_type": "markdown",
      "source": [
        "# Question 2"
      ],
      "metadata": {
        "id": "ij__AkzUhE0_"
      }
    },
    {
      "cell_type": "code",
      "source": [
        "# Evaluate NDC savings for each correlation value\n",
        "corr_values = [0, 0.5, 1.0]  # Correlation values to evaluate"
      ],
      "metadata": {
        "id": "Ae8-Sr-JhHXm"
      },
      "execution_count": 145,
      "outputs": []
    },
    {
      "cell_type": "code",
      "source": [
        "total_costs_with_central = []  # List to store total costs with centralization\n",
        "savings_list = []  # List to store savings for each correlation"
      ],
      "metadata": {
        "id": "IVQlF7veHdGT"
      },
      "execution_count": 146,
      "outputs": []
    },
    {
      "cell_type": "code",
      "source": [
        "# Loop through correlation values\n",
        "for corr in corr_values:\n",
        "    # Create correlation matrix using the scalar value 'corr'\n",
        "    corr_matrix = np.full((n_regions, n_regions), corr)\n",
        "    np.fill_diagonal(corr_matrix, 1)  # Set diagonal elements to 1\n",
        "\n",
        "    # Reshape the flattened matrix for centralized demand (just an example for now)\n",
        "    centralize = np.ones((n_parts, n_regions))  # Default assumption: no centralization\n",
        "\n",
        "    # Compute aggregate standard deviation for centralized choices\n",
        "    agg_std_demand = np.diag(np.dot(np.dot(np.multiply(std_demand, centralize), corr_matrix),\n",
        "                                   np.transpose(np.multiply(std_demand, centralize))))\n",
        "    sqrt_agg_std_demand = np.sqrt(agg_std_demand)\n",
        "\n",
        "    # Adjust standard deviation by dividing by the number of centralized regions for each part\n",
        "    sum_columns = np.sum(centralize, axis=1, keepdims=True)\n",
        "    sum_columns[sum_columns == 0] = 1  # Avoid division by zero\n",
        "    sum_columns_inv = 1 / sum_columns\n",
        "\n",
        "    # Update standard deviation values based on the centralization matrix\n",
        "    sqrt_agg_std_demand2 = np.repeat(sqrt_agg_std_demand.reshape(n_parts, 1), n_regions, axis=1)\n",
        "    sum_columns_inv2 = np.repeat(sum_columns_inv.reshape(n_parts, 1), n_regions, axis=1)\n",
        "\n",
        "    std_demand_updated = np.array(centralize * sum_columns_inv2 * sqrt_agg_std_demand2 +\n",
        "                                  (1 - centralize) * std_demand)\n",
        "\n",
        "    # Centralized inventory holding cost (cycle stock + safety stock)\n",
        "    centralized_inventory_holding_cost = np.sum(\n",
        "        days * num_demand * (\n",
        "            h * (z_score * std_demand_updated * math.sqrt(T + L) + avg_demand * (T / 2 + L))\n",
        "        )\n",
        "    )\n",
        "\n",
        "    # Centralized transportation cost\n",
        "    centralized_transportation_cost = np.sum(\n",
        "        days * num_demand * avg_demand * (centralize * ctc + (1 - centralize) * tc)\n",
        "    )\n",
        "\n",
        "    # Total NDC cost with centralization\n",
        "    total_centralized_cost = centralized_inventory_holding_cost + centralized_transportation_cost\n",
        "\n",
        "    # Add the costs for comparison\n",
        "    total_costs_with_central.append(total_centralized_cost)\n",
        "\n",
        "\n",
        "    # Savings from NDC (centralization)\n",
        "    savings = total_cost - total_centralized_cost\n",
        "    savings_list.append(savings)\n",
        "\n",
        "\n",
        "    # Print results for this correlation\n",
        "    print(f\"Correlation: {corr}\")\n",
        "    print(f\"NDC Inventory Holding Cost: ${centralized_inventory_holding_cost:,.2f}\")\n",
        "    print(f\"NDC Transportation Cost: ${centralized_transportation_cost:,.2f}\")\n",
        "    print(f\"NDC Total Annual Cost: ${total_centralized_cost:,.2f}\")\n",
        "    print(f\"Savings from NDC: ${savings:,.2f}\\n\")"
      ],
      "metadata": {
        "colab": {
          "base_uri": "https://localhost:8080/"
        },
        "id": "FAbP849co_5A",
        "outputId": "66e33d98-de14-4c78-a39a-b32b15d18138"
      },
      "execution_count": 147,
      "outputs": [
        {
          "output_type": "stream",
          "name": "stdout",
          "text": [
            "Correlation: 0\n",
            "NDC Inventory Holding Cost: $1,072,874.78\n",
            "NDC Transportation Cost: $200,278.78\n",
            "NDC Total Annual Cost: $1,273,153.57\n",
            "Savings from NDC: $205,134.53\n",
            "\n",
            "Correlation: 0.5\n",
            "NDC Inventory Holding Cost: $1,233,881.14\n",
            "NDC Transportation Cost: $200,278.78\n",
            "NDC Total Annual Cost: $1,434,159.92\n",
            "Savings from NDC: $44,128.17\n",
            "\n",
            "Correlation: 1.0\n",
            "NDC Inventory Holding Cost: $1,347,070.96\n",
            "NDC Transportation Cost: $200,278.78\n",
            "NDC Total Annual Cost: $1,547,349.74\n",
            "Savings from NDC: $-69,061.65\n",
            "\n"
          ]
        }
      ]
    },
    {
      "cell_type": "code",
      "source": [
        "# Create a list of the same value as total_cost for plotting comparison\n",
        "total_cost_without_central = [total_cost] * len(corr_values)\n",
        "\n",
        "# Visualization\n",
        "plt.figure(figsize=(10, 6))\n",
        "\n",
        "# Plot the total cost with centralization\n",
        "plt.plot(corr_values, total_costs_with_central, label=\"With Centralization\", marker='o')\n",
        "\n",
        "# Plot the total cost without centralization (constant value)\n",
        "plt.plot(corr_values, total_cost_without_central, label=\"Without Centralization\", linestyle='--', color='red')\n",
        "\n",
        "# Adding labels and title\n",
        "plt.xlabel('Correlation Coefficient')\n",
        "plt.ylabel('Total Cost in USD')\n",
        "plt.title('Total Cost Comparison: With vs. Without Centralization')\n",
        "\n",
        "# Add a legend\n",
        "plt.legend()\n",
        "\n",
        "# Display the plot\n",
        "plt.grid(True)\n",
        "plt.show()"
      ],
      "metadata": {
        "colab": {
          "base_uri": "https://localhost:8080/",
          "height": 564
        },
        "id": "DSzbztsrG0T3",
        "outputId": "905359a7-a24c-42db-cf31-062bbef37ed6"
      },
      "execution_count": 148,
      "outputs": [
        {
          "output_type": "display_data",
          "data": {
            "text/plain": [
              "<Figure size 1000x600 with 1 Axes>"
            ],
            "image/png": "[encoded data removed]"
          },
          "metadata": {}
        }
      ]
    },
    {
      "cell_type": "markdown",
      "source": [
        "# Question 3"
      ],
      "metadata": {
        "id": "l9EX6VKZwRoZ"
      }
    },
    {
      "cell_type": "code",
      "source": [
        "# Objective function to maximize (using matrix calculations)\n",
        "def objective_function(flat_matrix):\n",
        "\n",
        "    centralize = flat_matrix.reshape((n_parts, n_regions))  # Reshape the flattened matrix to (3, 5)\n",
        "\n",
        "    # Compute aggregate standard deviation for centralized choices\n",
        "    agg_std_demand = np.diag(np.dot(np.dot(np.multiply(std_demand, centralize), corr_matrix),\n",
        "                                    np.transpose(np.multiply(std_demand, centralize))))\n",
        "    sqrt_agg_std_demand = np.sqrt(agg_std_demand)\n",
        "\n",
        "    sum_columns = np.sum(centralize, axis=1, keepdims=True)\n",
        "    sum_columns[sum_columns == 0] = 1  # Prevent division by zero\n",
        "    sum_columns_inv = 1 / sum_columns\n",
        "\n",
        "    # Adjust the standard deviation by dividing by the number of centralized regions for each part\n",
        "    sqrt_agg_std_demand2 = np.repeat(sqrt_agg_std_demand.reshape(n_parts, 1), n_regions, axis=1)\n",
        "    sum_columns_inv2 = np.repeat(sum_columns_inv.reshape(n_parts, 1), n_regions, axis=1)\n",
        "\n",
        "    std_demand_updated = np.array(centralize * sum_columns_inv2 * sqrt_agg_std_demand2 + (1 - centralize) * std_demand)\n",
        "\n",
        "    total_cost = sum(\n",
        "        days * num_demand[i, j] *\n",
        "        (h * (z_score * std_demand_updated[i, j] * math.sqrt(T + L) + avg_demand[i, j] * (T/2 + L)) +\n",
        "         (avg_demand[i, j] * (centralize[i, j] * ctc + (1 - centralize[i, j]) * tc)))\n",
        "        for i in range(n_parts) for j in range(n_regions)\n",
        "    )\n",
        "\n",
        "    return total_cost  # Negate for maximization\n",
        "\n",
        "# Loop over correlation values\n",
        "corr_values = [0, 0.5, 1]\n",
        "\n",
        "for corr in corr_values:\n",
        "    # Set up correlation matrix for the current correlation value\n",
        "    corr_matrix = np.full((n_regions, n_regions), corr)\n",
        "    np.fill_diagonal(corr_matrix, 1)  # Fill diagonal with 1\n",
        "\n",
        "    # Initial guess for decision variables\n",
        "    initial_guess = np.full((n_parts, n_regions), 0.5)\n",
        "    initial_guess_flat = initial_guess.flatten()  # Flatten the initial guess for use in optimization\n",
        "\n",
        "    # Bounds for decision variables (between 0 and 1)\n",
        "    bounds = [(0, 1)] * (n_parts * n_regions)\n",
        "\n",
        "    # Custom constraint enforcing the sum of each group (of 5) to not equal 1\n",
        "    def binary_constraints(x):\n",
        "        # Binary constraint to force variables close to 0 or 1\n",
        "        return [xi * (1 - xi) for xi in x]\n",
        "\n",
        "    # Constraints argument\n",
        "    constraints = ({'type': 'ineq', 'fun': binary_constraints})\n",
        "\n",
        "    # Optimization using minimize function from scipy\n",
        "    result = minimize(objective_function, initial_guess_flat, bounds=bounds, constraints=constraints)\n",
        "\n",
        "    # Extract the optimal solution as a 3x5 matrix\n",
        "    optimal_soln_mat = np.round(result.x.reshape((n_parts, n_regions)))\n",
        "\n",
        "    # Print the optimal solution and results for the current correlation value\n",
        "    print(f\"Correlation: {corr}\")\n",
        "    print(f\"Minimum cost: ${(result.fun):>13,.2f}\")\n",
        "    print(\"\\nOptimal Solution:\\n   R1   R2   R3   R4   R5\")\n",
        "    for part in optimal_soln_mat:\n",
        "        print(\" \".join(f\"{int(region):4}\" for region in part))\n",
        "    print(\"\\n\")"
      ],
      "metadata": {
        "colab": {
          "base_uri": "https://localhost:8080/"
        },
        "id": "t3o0nrzXwhYp",
        "outputId": "3e8760f9-a2b1-4051-e124-fc5bed75d5e0"
      },
      "execution_count": 149,
      "outputs": [
        {
          "output_type": "stream",
          "name": "stdout",
          "text": [
            "Correlation: 0\n",
            "Minimum cost: $ 1,272,712.13\n",
            "\n",
            "Optimal Solution:\n",
            "   R1   R2   R3   R4   R5\n",
            "   0    1    1    1    1\n",
            "   1    1    1    1    1\n",
            "   1    1    1    1    1\n",
            "\n",
            "\n",
            "Correlation: 0.5\n",
            "Minimum cost: $ 1,418,648.16\n",
            "\n",
            "Optimal Solution:\n",
            "   R1   R2   R3   R4   R5\n",
            "   0    0    0    0    0\n",
            "   1    1    1    1    1\n",
            "   1    1    1    1    1\n",
            "\n",
            "\n",
            "Correlation: 1\n",
            "Minimum cost: $ 1,478,288.09\n",
            "\n",
            "Optimal Solution:\n",
            "   R1   R2   R3   R4   R5\n",
            "   0    0    0    0    0\n",
            "   0    0    0    0    0\n",
            "   0    0    0    0    0\n",
            "\n",
            "\n"
          ]
        }
      ]
    }
  ]
}